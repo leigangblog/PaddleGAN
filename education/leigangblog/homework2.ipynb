{
 "cells": [
  {
   "cell_type": "markdown",
   "metadata": {
    "collapsed": false
   },
   "source": [
    "# 1. DCGAN改LSGAN\n",
    "* DCGAN与LSGAN主要区别在于损失函数\n",
    "可以看下有提示的地方。"
   ]
  },
  {
   "cell_type": "code",
   "execution_count": null,
   "metadata": {
    "collapsed": false
   },
   "outputs": [],
   "source": [
    "#导入一些必要的包\n",
    "import os\n",
    "import random\n",
    "import paddle \n",
    "import paddle.nn as nn\n",
    "import paddle.optimizer as optim\n",
    "import paddle.vision.datasets as dset\n",
    "import paddle.vision.transforms as transforms\n",
    "import numpy as np\n",
    "import matplotlib.pyplot as plt\n",
    "import matplotlib.animation as animation"
   ]
  },
  {
   "cell_type": "code",
   "execution_count": null,
   "metadata": {
    "collapsed": false
   },
   "outputs": [],
   "source": [
    "dataset = paddle.vision.datasets.MNIST(mode='train', \n",
    "                                        transform=transforms.Compose([\n",
    "                                        # resize ->(32,32)\n",
    "                                        transforms.Resize((32,32)),\n",
    "                                        # 归一化到-1~1\n",
    "                                        transforms.Normalize([127.5], [127.5])\n",
    "                                    ]))\n",
    "\n",
    "dataloader = paddle.io.DataLoader(dataset, batch_size=32,\n",
    "                                  shuffle=True, num_workers=4)"
   ]
  },
  {
   "cell_type": "code",
   "execution_count": null,
   "metadata": {
    "collapsed": false
   },
   "outputs": [],
   "source": [
    "#参数初始化的模块\n",
    "@paddle.no_grad()\n",
    "def normal_(x, mean=0., std=1.):\n",
    "    temp_value = paddle.normal(mean, std, shape=x.shape)\n",
    "    x.set_value(temp_value)\n",
    "    return x\n",
    "\n",
    "@paddle.no_grad()\n",
    "def uniform_(x, a=-1., b=1.):\n",
    "    temp_value = paddle.uniform(min=a, max=b, shape=x.shape)\n",
    "    x.set_value(temp_value)\n",
    "    return x\n",
    "\n",
    "@paddle.no_grad()\n",
    "def constant_(x, value):\n",
    "    temp_value = paddle.full(x.shape, value, x.dtype)\n",
    "    x.set_value(temp_value)\n",
    "    return x\n",
    "\n",
    "def weights_init(m):\n",
    "    classname = m.__class__.__name__\n",
    "    if hasattr(m, 'weight') and classname.find('Conv') != -1:\n",
    "        normal_(m.weight, 0.0, 0.02)\n",
    "    elif classname.find('BatchNorm') != -1:\n",
    "        normal_(m.weight, 1.0, 0.02)\n",
    "        constant_(m.bias, 0)"
   ]
  },
  {
   "cell_type": "code",
   "execution_count": null,
   "metadata": {
    "collapsed": false
   },
   "outputs": [],
   "source": [
    "# Generator Code\n",
    "class Generator(nn.Layer):\n",
    "    def __init__(self, ):\n",
    "        super(Generator, self).__init__()\n",
    "        self.gen = nn.Sequential(\n",
    "            # input is Z, [B, 100, 1, 1] -> [B, 64 * 4, 4, 4]\n",
    "            nn.Conv2DTranspose(100, 64 * 4, 4, 1, 0, bias_attr=False),\n",
    "            nn.BatchNorm2D(64 * 4),\n",
    "            nn.ReLU(True),\n",
    "            # state size. [B, 64 * 4, 4, 4] -> [B, 64 * 2, 8, 8]\n",
    "            nn.Conv2DTranspose(64 * 4, 64 * 2, 4, 2, 1, bias_attr=False),\n",
    "            nn.BatchNorm2D(64 * 2),\n",
    "            nn.ReLU(True),\n",
    "            # state size. [B, 64 * 2, 8, 8] -> [B, 64, 16, 16]\n",
    "            nn.Conv2DTranspose( 64 * 2, 64, 4, 2, 1, bias_attr=False),\n",
    "            nn.BatchNorm2D(64),\n",
    "            nn.ReLU(True),\n",
    "            # state size. [B, 64, 16, 16] -> [B, 1, 32, 32]\n",
    "            nn.Conv2DTranspose( 64, 1, 4, 2, 1, bias_attr=False),\n",
    "            nn.Tanh()\n",
    "        )\n",
    "\n",
    "    def forward(self, x):\n",
    "        return self.gen(x)\n",
    "\n",
    "\n",
    "netG = Generator()\n",
    "# Apply the weights_init function to randomly initialize all weights\n",
    "#  to mean=0, stdev=0.2.\n",
    "netG.apply(weights_init)\n",
    "\n",
    "# Print the model\n",
    "print(netG)"
   ]
  },
  {
   "cell_type": "code",
   "execution_count": null,
   "metadata": {
    "collapsed": false
   },
   "outputs": [],
   "source": [
    "class Discriminator(nn.Layer):\n",
    "    def __init__(self,):\n",
    "        super(Discriminator, self).__init__()\n",
    "        self.dis = nn.Sequential(\n",
    "\n",
    "            # input [B, 1, 32, 32] -> [B, 64, 16, 16]\n",
    "            nn.Conv2D(1, 64, 4, 2, 1, bias_attr=False),\n",
    "            nn.LeakyReLU(0.2),\n",
    "\n",
    "            # state size. [B, 64, 16, 16] -> [B, 128, 8, 8]\n",
    "            nn.Conv2D(64, 64 * 2, 4, 2, 1, bias_attr=False),\n",
    "            nn.BatchNorm2D(64 * 2),\n",
    "            nn.LeakyReLU(0.2),\n",
    "\n",
    "            # state size. [B, 128, 8, 8] -> [B, 256, 4, 4]\n",
    "            nn.Conv2D(64 * 2, 64 * 4, 4, 2, 1, bias_attr=False),\n",
    "            nn.BatchNorm2D(64 * 4),\n",
    "            nn.LeakyReLU(0.2),\n",
    "\n",
    "            # state size. [B, 256, 4, 4] -> [B, 1, 1, 1]\n",
    "            nn.Conv2D(64 * 4, 1, 4, 1, 0, bias_attr=False),\n",
    "            # 这里为需要改变的地方\n",
    "            # nn.Sigmoid()  # DCGAN\n",
    "            nn.LeakyReLU()  # LSGAN\n",
    "        )\n",
    "\n",
    "    def forward(self, x):\n",
    "        return self.dis(x)\n",
    "\n",
    "netD = Discriminator()\n",
    "netD.apply(weights_init)\n",
    "print(netD)"
   ]
  },
  {
   "cell_type": "code",
   "execution_count": null,
   "metadata": {
    "collapsed": false
   },
   "outputs": [],
   "source": [
    "# Initialize BCELoss function\n",
    "# 这里为需要改变的地方\n",
    "# loss = nn.BCELoss()   # DCGAN\n",
    "loss=nn.MSELoss()       # LSGAN\n",
    "\n",
    "# Create batch of latent vectors that we will use to visualize\n",
    "#  the progression of the generator\n",
    "fixed_noise = paddle.randn([32, 100, 1, 1], dtype='float32')\n",
    "\n",
    "# Establish convention for real and fake labels during training\n",
    "real_label = 1.\n",
    "fake_label = 0.\n",
    "\n",
    "# Setup Adam optimizers for both G and D\n",
    "optimizerD = optim.Adam(parameters=netD.parameters(), learning_rate=0.0002, beta1=0.5, beta2=0.999)\n",
    "optimizerG = optim.Adam(parameters=netG.parameters(), learning_rate=0.0002, beta1=0.5, beta2=0.999)\n"
   ]
  },
  {
   "cell_type": "code",
   "execution_count": null,
   "metadata": {
    "collapsed": false
   },
   "outputs": [],
   "source": [
    "losses = [[], []]\n",
    "#plt.ion()\n",
    "now = 0\n",
    "for pass_id in range(100):\n",
    "    for batch_id, (data, target) in enumerate(dataloader):\n",
    "        ############################\n",
    "        # (1) Update D network: maximize log(D(x)) + log(1 - D(G(z)))\n",
    "        ###########################\n",
    "\n",
    "        optimizerD.clear_grad()\n",
    "        real_img = data\n",
    "        bs_size = real_img.shape[0]\n",
    "        label = paddle.full((bs_size, 1, 1, 1), real_label, dtype='float32')\n",
    "        real_out = netD(real_img)\n",
    "        errD_real = loss(real_out, label)\n",
    "        errD_real.backward()\n",
    "\n",
    "        noise = paddle.randn([bs_size, 100, 1, 1], 'float32')\n",
    "        fake_img = netG(noise)\n",
    "        label = paddle.full((bs_size, 1, 1, 1), fake_label, dtype='float32')\n",
    "        fake_out = netD(fake_img.detach())\n",
    "        errD_fake = loss(fake_out,label)\n",
    "        errD_fake.backward()\n",
    "        optimizerD.step()\n",
    "        optimizerD.clear_grad()\n",
    "\n",
    "        errD = errD_real + errD_fake\n",
    "        losses[0].append(errD.numpy()[0])\n",
    "\n",
    "        ############################\n",
    "        # (2) Update G network: maximize log(D(G(z)))\n",
    "        ###########################\n",
    "        optimizerG.clear_grad()\n",
    "        noise = paddle.randn([bs_size, 100, 1, 1],'float32')\n",
    "        fake = netG(noise)\n",
    "        label = paddle.full((bs_size, 1, 1, 1), real_label, dtype=np.float32,)\n",
    "        output = netD(fake)\n",
    "        errG = loss(output,label)\n",
    "        errG.backward()\n",
    "        optimizerG.step()\n",
    "        optimizerG.clear_grad()\n",
    "\n",
    "        losses[1].append(errG.numpy()[0])\n",
    "\n",
    "\n",
    "        ############################\n",
    "        # visualize\n",
    "        ###########################\n",
    "        if batch_id % 100 == 0:\n",
    "            generated_image = netG(noise).numpy()\n",
    "            imgs = []\n",
    "            plt.figure(figsize=(15,15))\n",
    "            try:\n",
    "                for i in range(10):\n",
    "                    image = generated_image[i].transpose()\n",
    "                    image = np.where(image > 0, image, 0)\n",
    "                    image = image.transpose((1,0,2))\n",
    "                    plt.subplot(10, 10, i + 1)\n",
    "                    \n",
    "                    plt.imshow(image[...,0], vmin=-1, vmax=1)\n",
    "                    plt.axis('off')\n",
    "                    plt.xticks([])\n",
    "                    plt.yticks([])\n",
    "                    plt.subplots_adjust(wspace=0.1, hspace=0.1)\n",
    "                msg = 'Epoch ID={0} Batch ID={1} \\n\\n D-Loss={2} G-Loss={3}'.format(pass_id, batch_id, errD.numpy()[0], errG.numpy()[0])\n",
    "                print(msg)\n",
    "                plt.suptitle(msg,fontsize=20)\n",
    "                plt.draw()\n",
    "                plt.savefig('{}/{:04d}_{:04d}.png'.format('work', pass_id, batch_id), bbox_inches='tight')\n",
    "                plt.pause(0.01)\n",
    "            except IOError:\n",
    "                print(IOError)\n",
    "    paddle.save(netG.state_dict(), \"work/generator.params\")"
   ]
  },
  {
   "cell_type": "markdown",
   "metadata": {
    "collapsed": false
   },
   "source": [
    "训练最后的结果：\n",
    "![](https://ai-studio-static-online.cdn.bcebos.com/797c7a7999aa49d1a3d7a4d7230828f64adbf04481f54a149ea050dd8554bfbe)\n"
   ]
  },
  {
   "cell_type": "markdown",
   "metadata": {
    "collapsed": false
   },
   "source": [
    "# 2.参考资料\r\n",
    "\r\n",
    "【PaddleGAN的Github地址】:https://github.com/PaddlePaddle/PaddleGAN\r\n",
    "\r\n",
    "【PaddleGAN的Gitee地址】:https://gitee.com/PaddlePaddle/PaddleGAN\r\n",
    "\r\n",
    "【生成对抗网络七日打卡营】课程链接：https://aistudio.baidu.com/aistudio/course/introduce/16651\r\n",
    "\r\n",
    "【生成对抗网络七日打卡营】项目合集:https://aistudio.baidu.com/aistudio/projectdetail/1807841\r\n",
    "\r\n",
    "【图像分割7日打卡营常见问题汇总】\r\n",
    "https://aistudio.baidu.com/aistudio/projectdetail/1100155\r\n",
    "\r\n",
    "【PaddlePaddle使用教程】\r\n",
    "https://www.paddlepaddle.org.cn/documentation/docs/zh/develop/guides/index_cn.html\r\n",
    "\r\n",
    "【本地安装PaddlePaddle的常见错误】\r\n",
    "https://aistudio.baidu.com/aistudio/projectdetail/697227\r\n",
    "\r\n",
    "【API文档】\r\n",
    "https://www.paddlepaddle.org.cn/documentation/docs/zh/develop/api/index_cn.html\r\n",
    "\r\n",
    "【PaddlePaddle/hapi Github】\r\n",
    "https://github.com/PaddlePaddle/hapi\r\n",
    "\r\n",
    "【Github使用】\r\n",
    "https://guides.github.com/activities/hello-world/\r\n",
    "\r\n"
   ]
  },
  {
   "cell_type": "markdown",
   "metadata": {
    "collapsed": false
   },
   "source": [
    "# 3.个人介绍\n",
    "> 中南大学 机电工程学院 机械工程专业 2019级 研究生 雷钢\n",
    "\n",
    "> 百度飞桨官方帮帮团成员\n",
    "\n",
    "> Github地址：https://github.com/leigangblog\n",
    "\n",
    "> B站：https://space.bilibili.com/53420969\n",
    "\n",
    "来AI Studio互关吧，等你哦~ https://aistudio.baidu.com/aistudio/personalcenter/thirdview/118783\n",
    "欢迎大家fork喜欢评论三连，感兴趣的朋友也可互相关注一下啊~"
   ]
  }
 ],
 "metadata": {
  "kernelspec": {
   "display_name": "PaddlePaddle 2.0.0b0 (Python 3.5)",
   "language": "python",
   "name": "py35-paddle1.2.0"
  },
  "language_info": {
   "codemirror_mode": {
    "name": "ipython",
    "version": 3
   },
   "file_extension": ".py",
   "mimetype": "text/x-python",
   "name": "python",
   "nbconvert_exporter": "python",
   "pygments_lexer": "ipython3",
   "version": "3.7.4"
  }
 },
 "nbformat": 4,
 "nbformat_minor": 1
}
