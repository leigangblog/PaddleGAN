{
 "cells": [
  {
   "cell_type": "markdown",
   "metadata": {
    "collapsed": false
   },
   "source": [
    "# 1.超分大作业\n",
    "\n",
    "经过这几天的学习，相信大家对GAN已经有了一定的了解了，也在前面的作业中体验过GAN的一些应用了。那现在大家是不是想要升级一下难度，自己动手来训练一个模型呢？\n",
    "\n",
    "需要自己动手训练的大作业来啦，大作业内容为基于PaddleGAN中的超分模型，实现卡通画超分。\n"
   ]
  },
  {
   "cell_type": "markdown",
   "metadata": {
    "collapsed": false
   },
   "source": [
    "## 1.1 安装PaddleGAN\n",
    "\n",
    "PaddleGAN的安装目前支持Clone GitHub和Gitee两种方式："
   ]
  },
  {
   "cell_type": "code",
   "execution_count": null,
   "metadata": {
    "collapsed": false
   },
   "outputs": [],
   "source": [
    "# 安装ppgan\n",
    "# 当前目录在: /home/aistudio/, 这个目录也是左边文件和文件夹所在的目录\n",
    "# 克隆最新的PaddleGAN仓库到当前目录\n",
    "# !git clone https://github.com/PaddlePaddle/PaddleGAN.git\n",
    "# 如果从github下载慢可以从gitee clone：\n",
    "!git clone https://gitee.com/paddlepaddle/PaddleGAN.git\n",
    "# 安装Paddle GAN\n",
    "%cd PaddleGAN/\n",
    "!pip install -v -e ."
   ]
  },
  {
   "cell_type": "markdown",
   "metadata": {
    "collapsed": false
   },
   "source": [
    "## 1.2 数据准备\n",
    "我们为大家准备了处理好的超分数据集[卡通画超分数据集](https://aistudio.baidu.com/aistudio/datasetdetail/80790)"
   ]
  },
  {
   "cell_type": "code",
   "execution_count": null,
   "metadata": {
    "collapsed": false
   },
   "outputs": [],
   "source": [
    "# 回到/home/aistudio/下\n",
    "%cd /home/aistudio\n",
    "# 解压数据\n",
    "!unzip -q data/data80790/animeSR.zip -d data/\n",
    "# 将解压后的数据链接到` /home/aistudio/PaddleGAN/data `目录下\n",
    "!mv data/animeSR PaddleGAN/data/"
   ]
  },
  {
   "cell_type": "markdown",
   "metadata": {
    "collapsed": false
   },
   "source": [
    "\n",
    "### 1.2.1 数据集的组成形式\n",
    "```\n",
    "    PaddleGAN\n",
    "      ├── data\n",
    "          ├── animeSR\n",
    "                ├── train\n",
    "                ├── train_X4\n",
    "                ├── test\n",
    "                └── test_X4\n",
    "  ```\n",
    "\n",
    "训练数据集包括400张卡通画，其中``` train ```中是高分辨率图像，``` train_X4 ```中是对应的4倍缩小的低分辨率图像。测试数据集包括20张卡通画，其中``` test ```中是高分辨率图像，``` test_X4 ```中是对应的4倍缩小的低分辨率图像。"
   ]
  },
  {
   "cell_type": "markdown",
   "metadata": {
    "collapsed": false
   },
   "source": [
    "### 1.2.2 数据可视化"
   ]
  },
  {
   "cell_type": "code",
   "execution_count": null,
   "metadata": {
    "collapsed": false
   },
   "outputs": [],
   "source": [
    "import os\n",
    "import cv2\n",
    "import numpy as np\n",
    "import matplotlib.pyplot as plt\n",
    "# 训练数据统计\n",
    "train_names = os.listdir('PaddleGAN/data/animeSR/train')\n",
    "print(f'训练集数据量: {len(train_names)}')\n",
    "\n",
    "# 测试数据统计\n",
    "test_names = os.listdir('PaddleGAN/data/animeSR/test')\n",
    "print(f'测试集数据量: {len(test_names)}')\n",
    "\n",
    "# 训练数据可视化\n",
    "img = cv2.imread('PaddleGAN/data/animeSR/train/Anime_1.jpg')\n",
    "img = img[:,:,::-1]\n",
    "plt.figure()\n",
    "plt.imshow(img)\n",
    "plt.show()"
   ]
  },
  {
   "cell_type": "markdown",
   "metadata": {
    "collapsed": false
   },
   "source": [
    "## 1.3 选择超分模型\n",
    "\n",
    "PaddleGAN中提供的超分模型包括RealSR, ESRGAN, LESRCNN, DRN等，详情可见[超分模型](https://github.com/PaddlePaddle/PaddleGAN/blob/develop/docs/zh_CN/tutorials/super_resolution.md)。\n",
    "\n",
    "接下来以LESRCNN为例进行演示。"
   ]
  },
  {
   "cell_type": "markdown",
   "metadata": {
    "collapsed": false
   },
   "source": [
    "### 1.3.1 修改配置文件\n",
    " 所有模型的配置文件均在``` /home/aistudio/PaddleGAN/configs ```目录下。\n",
    " \n",
    " 找到你需要的模型的配置文件，修改模型参数，一般修改迭代次数，num_workers，batch_size以及数据集路径。有能力的同学也可以尝试修改其他参数，或者基于现有模型进行二次开发，模型代码在``` /home/aistudio/PaddleGAN/ppgan/models ```目录下。\n",
    " \n",
    " 以LESRCNN为例，这里将将配置文件``lesrcnn_psnr_x4_div2k.yaml``中的\n",
    " \n",
    " 参数``total_iters``改为50000\n",
    " \n",
    " 参数``dataset：train：num_workers``改为4\n",
    " \n",
    " 参数``dataset：train：batch_size``改为16\n",
    " \n",
    " 参数``dataset：train：gt_folder``改为data/animeSR/train\n",
    " \n",
    " 参数``dataset：train：lq_folder``改为data/animeSR/train_X4\n",
    " \n",
    " 参数``dataset：test：gt_folder``改为data/animeSR/test\n",
    " \n",
    " 参数``dataset：test：lq_folder``改为data/animeSR/test_X4\n",
    " "
   ]
  },
  {
   "cell_type": "markdown",
   "metadata": {
    "collapsed": false
   },
   "source": [
    "## 1.4 训练模型\n",
    "以LESRCNN为例，运行以下代码训练LESRCNN模型。\n",
    "\n",
    "如果希望使用其他模型训练，可以修改配置文件名字。"
   ]
  },
  {
   "cell_type": "code",
   "execution_count": null,
   "metadata": {
    "collapsed": false
   },
   "outputs": [],
   "source": [
    "%cd /home/aistudio/PaddleGAN/\n",
    "!python -u tools/main.py --config-file configs/lesrcnn_psnr_x4_div2k.yaml"
   ]
  },
  {
   "cell_type": "markdown",
   "metadata": {
    "collapsed": false
   },
   "source": [
    "## 1.5 测试模型\n",
    "以LESRCNN为例，模型训练好后，运行以下代码测试LESRCNN模型。\n",
    "\n",
    "其中``/home/aistudio/pretrained_model/LESRCNN_PSNR_50000_weight.pdparams``是刚才ESRGAN训练的模型参数，同学们需要换成自己的模型参数。\n",
    "\n",
    "如果希望使用其他模型测试，可以修改配置文件名字。"
   ]
  },
  {
   "cell_type": "code",
   "execution_count": null,
   "metadata": {
    "collapsed": false
   },
   "outputs": [],
   "source": [
    "%cd /home/aistudio/PaddleGAN/\n",
    "!python tools/main.py --config-file configs/lesrcnn_psnr_x4_div2k.yaml --evaluate-only --load /home/aistudio/pretrained_model/LESRCNN_PSNR_50000_weight.pdparams"
   ]
  },
  {
   "cell_type": "markdown",
   "metadata": {
    "collapsed": false
   },
   "source": [
    "## 1.6 实验结果展示及模型下载\n",
    "这里使用LESRCNN模型训练了一个基于PSNR指标的预测模型。\n",
    "\n",
    "数值结果展示及模型下载\n",
    "\n",
    "| 方法 | 数据集 | 迭代次数 | 训练时长 | PSNR | SSIM | 模型下载 |\n",
    "|---|---|---|---|---|---|---|\n",
    "| LESRCNN_PSNR  | 卡通画超分数据集 | 50000 | 2h | 24.9480 | 0.7469 |[LESRCNN_PSNR](./pretrained_model/LESRCNN_PSNR_50000_weight.pdparams)|\n",
    "\n",
    "\n",
    "可视化\n",
    "| 低分辨率 | LESRCNN_PSNR | GT |\n",
    "|---|---|---|\n",
    "|![](./image/Anime_401_lq.png)|![](./image/Anime_401_output.png)|![](./image/Anime_401_gt.png)|\n",
    "|![](./image/Anime_407_lq.png)|![](./image/Anime_407_output.png)|![](./image/Anime_407_gt.png)|\n",
    "\n",
    "\n",
    "最后效果\n",
    "\n",
    "![](https://ai-studio-static-online.cdn.bcebos.com/5c4951194b754d1f919fe627a631e448237ea38f06a24a8ba5d8571a3444e95f)\n",
    "\n",
    "![](https://ai-studio-static-online.cdn.bcebos.com/7c89b4c74e7a419db399e809da1e2685e8c32d7e191243d7b147d3e44cbbe30e)\n",
    "\n",
    "\n",
    "\n",
    "\n"
   ]
  },
  {
   "cell_type": "markdown",
   "metadata": {
    "collapsed": false
   },
   "source": [
    "# 2.参考资料\n",
    "\n",
    "【PaddleGAN的Github地址】:https://github.com/PaddlePaddle/PaddleGAN\n",
    "\n",
    "【PaddleGAN的Gitee地址】:https://gitee.com/PaddlePaddle/PaddleGAN\n",
    "\n",
    "【生成对抗网络七日打卡营】课程链接：https://aistudio.baidu.com/aistudio/course/introduce/16651\n",
    "\n",
    "【生成对抗网络七日打卡营】项目合集:https://aistudio.baidu.com/aistudio/projectdetail/1807841\n",
    "\n",
    "【图像分割7日打卡营常见问题汇总】\n",
    "https://aistudio.baidu.com/aistudio/projectdetail/1100155\n",
    "\n",
    "【PaddlePaddle使用教程】\n",
    "https://www.paddlepaddle.org.cn/documentation/docs/zh/develop/guides/index_cn.html\n",
    "\n",
    "【本地安装PaddlePaddle的常见错误】\n",
    "https://aistudio.baidu.com/aistudio/projectdetail/697227\n",
    "\n",
    "【API文档】\n",
    "https://www.paddlepaddle.org.cn/documentation/docs/zh/develop/api/index_cn.html\n",
    "\n",
    "【PaddlePaddle/hapi Github】\n",
    "https://github.com/PaddlePaddle/hapi\n",
    "\n",
    "【Github使用】\n",
    "https://guides.github.com/activities/hello-world/"
   ]
  },
  {
   "cell_type": "markdown",
   "metadata": {
    "collapsed": false
   },
   "source": [
    "# 3.个人介绍\n",
    "> 中南大学 机电工程学院 机械工程专业 2019级 研究生 雷钢\n",
    "\n",
    "> 百度飞桨官方帮帮团成员\n",
    "\n",
    "> Github地址：https://github.com/leigangblog\n",
    "\n",
    "> B站：https://space.bilibili.com/53420969\n",
    "\n",
    "来AI Studio互关吧，等你哦~ https://aistudio.baidu.com/aistudio/personalcenter/thirdview/118783\n",
    "欢迎大家fork喜欢评论三连，感兴趣的朋友也可互相关注一下啊~"
   ]
  }
 ],
 "metadata": {
  "kernelspec": {
   "display_name": "PaddlePaddle 2.0.0b0 (Python 3.5)",
   "language": "python",
   "name": "py35-paddle1.2.0"
  },
  "language_info": {
   "codemirror_mode": {
    "name": "ipython",
    "version": 3
   },
   "file_extension": ".py",
   "mimetype": "text/x-python",
   "name": "python",
   "nbconvert_exporter": "python",
   "pygments_lexer": "ipython3",
   "version": "3.7.4"
  }
 },
 "nbformat": 4,
 "nbformat_minor": 1
}
